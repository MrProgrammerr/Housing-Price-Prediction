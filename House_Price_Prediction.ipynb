{
 "cells": [
  {
   "cell_type": "markdown",
   "id": "1e6cc60f",
   "metadata": {},
   "source": [
    "# Boston House Price Prediction"
   ]
  },
  {
   "cell_type": "markdown",
   "id": "9cb4f5a4",
   "metadata": {},
   "source": [
    "## Import necessary libraries"
   ]
  },
  {
   "cell_type": "code",
   "execution_count": 1,
   "id": "bd963ed9",
   "metadata": {},
   "outputs": [],
   "source": [
    "import pandas as pd\n",
    "import numpy as np\n",
    "import matplotlib.pyplot as plt\n",
    "import seaborn as sns\n",
    "from sklearn.model_selection import train_test_split\n",
    "from sklearn.linear_model import LinearRegression\n",
    "from sklearn.metrics import mean_absolute_error, mean_squared_error,r2_score\n",
    "from sklearn.preprocessing import StandardScaler\n",
    "from tensorflow.keras.models import Sequential\n",
    "from tensorflow.keras.layers import Dense"
   ]
  },
  {
   "cell_type": "markdown",
   "id": "7a7b8e48",
   "metadata": {},
   "source": [
    "## Load the dataset"
   ]
  },
  {
   "cell_type": "code",
   "execution_count": 2,
   "id": "4bd745f1",
   "metadata": {},
   "outputs": [
    {
     "data": {
      "text/html": [
       "<div>\n",
       "<style scoped>\n",
       "    .dataframe tbody tr th:only-of-type {\n",
       "        vertical-align: middle;\n",
       "    }\n",
       "\n",
       "    .dataframe tbody tr th {\n",
       "        vertical-align: top;\n",
       "    }\n",
       "\n",
       "    .dataframe thead th {\n",
       "        text-align: right;\n",
       "    }\n",
       "</style>\n",
       "<table border=\"1\" class=\"dataframe\">\n",
       "  <thead>\n",
       "    <tr style=\"text-align: right;\">\n",
       "      <th></th>\n",
       "      <th>CRIM</th>\n",
       "      <th>ZN</th>\n",
       "      <th>INDUS</th>\n",
       "      <th>CHAS</th>\n",
       "      <th>NOX</th>\n",
       "      <th>RM</th>\n",
       "      <th>AGE</th>\n",
       "      <th>DIS</th>\n",
       "      <th>RAD</th>\n",
       "      <th>TAX</th>\n",
       "      <th>PTRATIO</th>\n",
       "      <th>B</th>\n",
       "      <th>LSTAT</th>\n",
       "      <th>MEDV</th>\n",
       "    </tr>\n",
       "  </thead>\n",
       "  <tbody>\n",
       "    <tr>\n",
       "      <th>0</th>\n",
       "      <td>0.00632</td>\n",
       "      <td>18.0</td>\n",
       "      <td>2.31</td>\n",
       "      <td>0</td>\n",
       "      <td>0.538</td>\n",
       "      <td>6.575</td>\n",
       "      <td>65.2</td>\n",
       "      <td>4.0900</td>\n",
       "      <td>1</td>\n",
       "      <td>296</td>\n",
       "      <td>15.3</td>\n",
       "      <td>396.90</td>\n",
       "      <td>4.98</td>\n",
       "      <td>24.0</td>\n",
       "    </tr>\n",
       "    <tr>\n",
       "      <th>1</th>\n",
       "      <td>0.02731</td>\n",
       "      <td>0.0</td>\n",
       "      <td>7.07</td>\n",
       "      <td>0</td>\n",
       "      <td>0.469</td>\n",
       "      <td>6.421</td>\n",
       "      <td>78.9</td>\n",
       "      <td>4.9671</td>\n",
       "      <td>2</td>\n",
       "      <td>242</td>\n",
       "      <td>17.8</td>\n",
       "      <td>396.90</td>\n",
       "      <td>9.14</td>\n",
       "      <td>21.6</td>\n",
       "    </tr>\n",
       "    <tr>\n",
       "      <th>2</th>\n",
       "      <td>0.02729</td>\n",
       "      <td>0.0</td>\n",
       "      <td>7.07</td>\n",
       "      <td>0</td>\n",
       "      <td>0.469</td>\n",
       "      <td>7.185</td>\n",
       "      <td>61.1</td>\n",
       "      <td>4.9671</td>\n",
       "      <td>2</td>\n",
       "      <td>242</td>\n",
       "      <td>17.8</td>\n",
       "      <td>392.83</td>\n",
       "      <td>4.03</td>\n",
       "      <td>34.7</td>\n",
       "    </tr>\n",
       "    <tr>\n",
       "      <th>3</th>\n",
       "      <td>0.03237</td>\n",
       "      <td>0.0</td>\n",
       "      <td>2.18</td>\n",
       "      <td>0</td>\n",
       "      <td>0.458</td>\n",
       "      <td>6.998</td>\n",
       "      <td>45.8</td>\n",
       "      <td>6.0622</td>\n",
       "      <td>3</td>\n",
       "      <td>222</td>\n",
       "      <td>18.7</td>\n",
       "      <td>394.63</td>\n",
       "      <td>2.94</td>\n",
       "      <td>33.4</td>\n",
       "    </tr>\n",
       "    <tr>\n",
       "      <th>4</th>\n",
       "      <td>0.06905</td>\n",
       "      <td>0.0</td>\n",
       "      <td>2.18</td>\n",
       "      <td>0</td>\n",
       "      <td>0.458</td>\n",
       "      <td>7.147</td>\n",
       "      <td>54.2</td>\n",
       "      <td>6.0622</td>\n",
       "      <td>3</td>\n",
       "      <td>222</td>\n",
       "      <td>18.7</td>\n",
       "      <td>396.90</td>\n",
       "      <td>5.33</td>\n",
       "      <td>36.2</td>\n",
       "    </tr>\n",
       "  </tbody>\n",
       "</table>\n",
       "</div>"
      ],
      "text/plain": [
       "      CRIM    ZN  INDUS  CHAS    NOX     RM   AGE     DIS  RAD  TAX  PTRATIO  \\\n",
       "0  0.00632  18.0   2.31     0  0.538  6.575  65.2  4.0900    1  296     15.3   \n",
       "1  0.02731   0.0   7.07     0  0.469  6.421  78.9  4.9671    2  242     17.8   \n",
       "2  0.02729   0.0   7.07     0  0.469  7.185  61.1  4.9671    2  242     17.8   \n",
       "3  0.03237   0.0   2.18     0  0.458  6.998  45.8  6.0622    3  222     18.7   \n",
       "4  0.06905   0.0   2.18     0  0.458  7.147  54.2  6.0622    3  222     18.7   \n",
       "\n",
       "        B  LSTAT  MEDV  \n",
       "0  396.90   4.98  24.0  \n",
       "1  396.90   9.14  21.6  \n",
       "2  392.83   4.03  34.7  \n",
       "3  394.63   2.94  33.4  \n",
       "4  396.90   5.33  36.2  "
      ]
     },
     "execution_count": 2,
     "metadata": {},
     "output_type": "execute_result"
    }
   ],
   "source": [
    "column_names = ['CRIM', 'ZN', 'INDUS', 'CHAS', 'NOX', 'RM', 'AGE', 'DIS', 'RAD', 'TAX', 'PTRATIO', 'B', 'LSTAT', 'MEDV']\n",
    "data_url = \"https://raw.githubusercontent.com/selva86/datasets/master/BostonHousing.csv\"\n",
    "df = pd.read_csv(data_url, header=None, sep=',', skiprows=1, names=column_names)\n",
    "df.head()"
   ]
  },
  {
   "cell_type": "markdown",
   "id": "bdbdacf5",
   "metadata": {},
   "source": [
    "## Inspect the dataset"
   ]
  },
  {
   "cell_type": "code",
   "execution_count": 3,
   "id": "02cc281e",
   "metadata": {},
   "outputs": [
    {
     "name": "stdout",
     "output_type": "stream",
     "text": [
      "<class 'pandas.core.frame.DataFrame'>\n",
      "RangeIndex: 506 entries, 0 to 505\n",
      "Data columns (total 14 columns):\n",
      " #   Column   Non-Null Count  Dtype  \n",
      "---  ------   --------------  -----  \n",
      " 0   CRIM     506 non-null    float64\n",
      " 1   ZN       506 non-null    float64\n",
      " 2   INDUS    506 non-null    float64\n",
      " 3   CHAS     506 non-null    int64  \n",
      " 4   NOX      506 non-null    float64\n",
      " 5   RM       506 non-null    float64\n",
      " 6   AGE      506 non-null    float64\n",
      " 7   DIS      506 non-null    float64\n",
      " 8   RAD      506 non-null    int64  \n",
      " 9   TAX      506 non-null    int64  \n",
      " 10  PTRATIO  506 non-null    float64\n",
      " 11  B        506 non-null    float64\n",
      " 12  LSTAT    506 non-null    float64\n",
      " 13  MEDV     506 non-null    float64\n",
      "dtypes: float64(11), int64(3)\n",
      "memory usage: 55.5 KB\n",
      "None\n"
     ]
    }
   ],
   "source": [
    "print(df.info())"
   ]
  },
  {
   "cell_type": "code",
   "execution_count": 4,
   "id": "7b6c3642",
   "metadata": {},
   "outputs": [
    {
     "name": "stdout",
     "output_type": "stream",
     "text": [
      "             CRIM          ZN       INDUS        CHAS         NOX          RM  \\\n",
      "count  506.000000  506.000000  506.000000  506.000000  506.000000  506.000000   \n",
      "mean     3.613524   11.363636   11.136779    0.069170    0.554695    6.284634   \n",
      "std      8.601545   23.322453    6.860353    0.253994    0.115878    0.702617   \n",
      "min      0.006320    0.000000    0.460000    0.000000    0.385000    3.561000   \n",
      "25%      0.082045    0.000000    5.190000    0.000000    0.449000    5.885500   \n",
      "50%      0.256510    0.000000    9.690000    0.000000    0.538000    6.208500   \n",
      "75%      3.677083   12.500000   18.100000    0.000000    0.624000    6.623500   \n",
      "max     88.976200  100.000000   27.740000    1.000000    0.871000    8.780000   \n",
      "\n",
      "              AGE         DIS         RAD         TAX     PTRATIO           B  \\\n",
      "count  506.000000  506.000000  506.000000  506.000000  506.000000  506.000000   \n",
      "mean    68.574901    3.795043    9.549407  408.237154   18.455534  356.674032   \n",
      "std     28.148861    2.105710    8.707259  168.537116    2.164946   91.294864   \n",
      "min      2.900000    1.129600    1.000000  187.000000   12.600000    0.320000   \n",
      "25%     45.025000    2.100175    4.000000  279.000000   17.400000  375.377500   \n",
      "50%     77.500000    3.207450    5.000000  330.000000   19.050000  391.440000   \n",
      "75%     94.075000    5.188425   24.000000  666.000000   20.200000  396.225000   \n",
      "max    100.000000   12.126500   24.000000  711.000000   22.000000  396.900000   \n",
      "\n",
      "            LSTAT        MEDV  \n",
      "count  506.000000  506.000000  \n",
      "mean    12.653063   22.532806  \n",
      "std      7.141062    9.197104  \n",
      "min      1.730000    5.000000  \n",
      "25%      6.950000   17.025000  \n",
      "50%     11.360000   21.200000  \n",
      "75%     16.955000   25.000000  \n",
      "max     37.970000   50.000000  \n"
     ]
    }
   ],
   "source": [
    "print(df.describe())"
   ]
  },
  {
   "cell_type": "markdown",
   "id": "a0afeb87",
   "metadata": {},
   "source": [
    "## Handle missing values (if any)"
   ]
  },
  {
   "cell_type": "code",
   "execution_count": 5,
   "id": "5bbadfa7",
   "metadata": {},
   "outputs": [
    {
     "data": {
      "text/plain": [
       "CRIM       0\n",
       "ZN         0\n",
       "INDUS      0\n",
       "CHAS       0\n",
       "NOX        0\n",
       "RM         0\n",
       "AGE        0\n",
       "DIS        0\n",
       "RAD        0\n",
       "TAX        0\n",
       "PTRATIO    0\n",
       "B          0\n",
       "LSTAT      0\n",
       "MEDV       0\n",
       "dtype: int64"
      ]
     },
     "execution_count": 5,
     "metadata": {},
     "output_type": "execute_result"
    }
   ],
   "source": [
    "df.isnull().sum()"
   ]
  },
  {
   "cell_type": "markdown",
   "id": "977c0f7f",
   "metadata": {},
   "source": [
    "For this dataset, there are no missing values."
   ]
  },
  {
   "cell_type": "markdown",
   "id": "3f23681e",
   "metadata": {},
   "source": [
    "## Perform feature scaling and normalization"
   ]
  },
  {
   "cell_type": "code",
   "execution_count": 6,
   "id": "995a4b61",
   "metadata": {},
   "outputs": [],
   "source": [
    "scaler = StandardScaler()\n",
    "scaled_features = scaler.fit_transform(df.drop('MEDV', axis=1))"
   ]
  },
  {
   "cell_type": "code",
   "execution_count": 7,
   "id": "f14534dc",
   "metadata": {},
   "outputs": [
    {
     "data": {
      "text/plain": [
       "(506, 13)"
      ]
     },
     "execution_count": 7,
     "metadata": {},
     "output_type": "execute_result"
    }
   ],
   "source": [
    "scaled_features.shape"
   ]
  },
  {
   "cell_type": "code",
   "execution_count": 8,
   "id": "aa5be622",
   "metadata": {},
   "outputs": [
    {
     "data": {
      "text/plain": [
       "9.933930601860267"
      ]
     },
     "execution_count": 8,
     "metadata": {},
     "output_type": "execute_result"
    }
   ],
   "source": [
    "scaled_features.max()"
   ]
  },
  {
   "cell_type": "markdown",
   "id": "e3098a8c",
   "metadata": {},
   "source": [
    "## Convert scaled features back to a DataFrame"
   ]
  },
  {
   "cell_type": "code",
   "execution_count": 9,
   "id": "c29fc615",
   "metadata": {},
   "outputs": [],
   "source": [
    "df_scaled = pd.DataFrame(scaled_features, columns=column_names[:-1])\n",
    "df_scaled['MEDV'] = df['MEDV']"
   ]
  },
  {
   "cell_type": "code",
   "execution_count": 10,
   "id": "c37b8950",
   "metadata": {},
   "outputs": [
    {
     "data": {
      "text/html": [
       "<div>\n",
       "<style scoped>\n",
       "    .dataframe tbody tr th:only-of-type {\n",
       "        vertical-align: middle;\n",
       "    }\n",
       "\n",
       "    .dataframe tbody tr th {\n",
       "        vertical-align: top;\n",
       "    }\n",
       "\n",
       "    .dataframe thead th {\n",
       "        text-align: right;\n",
       "    }\n",
       "</style>\n",
       "<table border=\"1\" class=\"dataframe\">\n",
       "  <thead>\n",
       "    <tr style=\"text-align: right;\">\n",
       "      <th></th>\n",
       "      <th>CRIM</th>\n",
       "      <th>ZN</th>\n",
       "      <th>INDUS</th>\n",
       "      <th>CHAS</th>\n",
       "      <th>NOX</th>\n",
       "      <th>RM</th>\n",
       "      <th>AGE</th>\n",
       "      <th>DIS</th>\n",
       "      <th>RAD</th>\n",
       "      <th>TAX</th>\n",
       "      <th>PTRATIO</th>\n",
       "      <th>B</th>\n",
       "      <th>LSTAT</th>\n",
       "      <th>MEDV</th>\n",
       "    </tr>\n",
       "  </thead>\n",
       "  <tbody>\n",
       "    <tr>\n",
       "      <th>0</th>\n",
       "      <td>-0.419782</td>\n",
       "      <td>0.284830</td>\n",
       "      <td>-1.287909</td>\n",
       "      <td>-0.272599</td>\n",
       "      <td>-0.144217</td>\n",
       "      <td>0.413672</td>\n",
       "      <td>-0.120013</td>\n",
       "      <td>0.140214</td>\n",
       "      <td>-0.982843</td>\n",
       "      <td>-0.666608</td>\n",
       "      <td>-1.459000</td>\n",
       "      <td>0.441052</td>\n",
       "      <td>-1.075562</td>\n",
       "      <td>24.0</td>\n",
       "    </tr>\n",
       "    <tr>\n",
       "      <th>1</th>\n",
       "      <td>-0.417339</td>\n",
       "      <td>-0.487722</td>\n",
       "      <td>-0.593381</td>\n",
       "      <td>-0.272599</td>\n",
       "      <td>-0.740262</td>\n",
       "      <td>0.194274</td>\n",
       "      <td>0.367166</td>\n",
       "      <td>0.557160</td>\n",
       "      <td>-0.867883</td>\n",
       "      <td>-0.987329</td>\n",
       "      <td>-0.303094</td>\n",
       "      <td>0.441052</td>\n",
       "      <td>-0.492439</td>\n",
       "      <td>21.6</td>\n",
       "    </tr>\n",
       "    <tr>\n",
       "      <th>2</th>\n",
       "      <td>-0.417342</td>\n",
       "      <td>-0.487722</td>\n",
       "      <td>-0.593381</td>\n",
       "      <td>-0.272599</td>\n",
       "      <td>-0.740262</td>\n",
       "      <td>1.282714</td>\n",
       "      <td>-0.265812</td>\n",
       "      <td>0.557160</td>\n",
       "      <td>-0.867883</td>\n",
       "      <td>-0.987329</td>\n",
       "      <td>-0.303094</td>\n",
       "      <td>0.396427</td>\n",
       "      <td>-1.208727</td>\n",
       "      <td>34.7</td>\n",
       "    </tr>\n",
       "    <tr>\n",
       "      <th>3</th>\n",
       "      <td>-0.416750</td>\n",
       "      <td>-0.487722</td>\n",
       "      <td>-1.306878</td>\n",
       "      <td>-0.272599</td>\n",
       "      <td>-0.835284</td>\n",
       "      <td>1.016303</td>\n",
       "      <td>-0.809889</td>\n",
       "      <td>1.077737</td>\n",
       "      <td>-0.752922</td>\n",
       "      <td>-1.106115</td>\n",
       "      <td>0.113032</td>\n",
       "      <td>0.416163</td>\n",
       "      <td>-1.361517</td>\n",
       "      <td>33.4</td>\n",
       "    </tr>\n",
       "    <tr>\n",
       "      <th>4</th>\n",
       "      <td>-0.412482</td>\n",
       "      <td>-0.487722</td>\n",
       "      <td>-1.306878</td>\n",
       "      <td>-0.272599</td>\n",
       "      <td>-0.835284</td>\n",
       "      <td>1.228577</td>\n",
       "      <td>-0.511180</td>\n",
       "      <td>1.077737</td>\n",
       "      <td>-0.752922</td>\n",
       "      <td>-1.106115</td>\n",
       "      <td>0.113032</td>\n",
       "      <td>0.441052</td>\n",
       "      <td>-1.026501</td>\n",
       "      <td>36.2</td>\n",
       "    </tr>\n",
       "  </tbody>\n",
       "</table>\n",
       "</div>"
      ],
      "text/plain": [
       "       CRIM        ZN     INDUS      CHAS       NOX        RM       AGE  \\\n",
       "0 -0.419782  0.284830 -1.287909 -0.272599 -0.144217  0.413672 -0.120013   \n",
       "1 -0.417339 -0.487722 -0.593381 -0.272599 -0.740262  0.194274  0.367166   \n",
       "2 -0.417342 -0.487722 -0.593381 -0.272599 -0.740262  1.282714 -0.265812   \n",
       "3 -0.416750 -0.487722 -1.306878 -0.272599 -0.835284  1.016303 -0.809889   \n",
       "4 -0.412482 -0.487722 -1.306878 -0.272599 -0.835284  1.228577 -0.511180   \n",
       "\n",
       "        DIS       RAD       TAX   PTRATIO         B     LSTAT  MEDV  \n",
       "0  0.140214 -0.982843 -0.666608 -1.459000  0.441052 -1.075562  24.0  \n",
       "1  0.557160 -0.867883 -0.987329 -0.303094  0.441052 -0.492439  21.6  \n",
       "2  0.557160 -0.867883 -0.987329 -0.303094  0.396427 -1.208727  34.7  \n",
       "3  1.077737 -0.752922 -1.106115  0.113032  0.416163 -1.361517  33.4  \n",
       "4  1.077737 -0.752922 -1.106115  0.113032  0.441052 -1.026501  36.2  "
      ]
     },
     "execution_count": 10,
     "metadata": {},
     "output_type": "execute_result"
    }
   ],
   "source": [
    "df_scaled.head()"
   ]
  },
  {
   "cell_type": "markdown",
   "id": "4676b0cd",
   "metadata": {},
   "source": [
    "## Split the data into training and testing sets"
   ]
  },
  {
   "cell_type": "code",
   "execution_count": 11,
   "id": "809eeacd",
   "metadata": {},
   "outputs": [],
   "source": [
    "X = df_scaled.drop('MEDV', axis=1)\n",
    "y = df_scaled['MEDV']\n",
    "X_train, X_test, y_train, y_test = train_test_split(X, y, test_size=0.1)"
   ]
  },
  {
   "cell_type": "code",
   "execution_count": 12,
   "id": "f60ffc72",
   "metadata": {},
   "outputs": [
    {
     "data": {
      "text/plain": [
       "((455, 13), (455,))"
      ]
     },
     "execution_count": 12,
     "metadata": {},
     "output_type": "execute_result"
    }
   ],
   "source": [
    "X_train.shape, y_train.shape"
   ]
  },
  {
   "cell_type": "markdown",
   "id": "d9a371ca",
   "metadata": {},
   "source": [
    "## Implement a simple Linear Regression model"
   ]
  },
  {
   "cell_type": "code",
   "execution_count": 13,
   "id": "a7f6488f",
   "metadata": {},
   "outputs": [
    {
     "data": {
      "text/plain": [
       "LinearRegression()"
      ]
     },
     "execution_count": 13,
     "metadata": {},
     "output_type": "execute_result"
    }
   ],
   "source": [
    "model = LinearRegression()\n",
    "model.fit(X_train, y_train)"
   ]
  },
  {
   "cell_type": "markdown",
   "id": "6bc29ef1",
   "metadata": {},
   "source": [
    "## Predict on the testing set"
   ]
  },
  {
   "cell_type": "code",
   "execution_count": 14,
   "id": "f0a82d13",
   "metadata": {},
   "outputs": [],
   "source": [
    "y_pred = model.predict(X_test)"
   ]
  },
  {
   "cell_type": "markdown",
   "id": "32cb0947",
   "metadata": {},
   "source": [
    "## Evaluate the model"
   ]
  },
  {
   "cell_type": "code",
   "execution_count": 15,
   "id": "7ebca15c",
   "metadata": {},
   "outputs": [
    {
     "name": "stdout",
     "output_type": "stream",
     "text": [
      "Mean Absolute Error: 4.170177848390395\n",
      "Mean Squared Error: 29.97126820089663\n",
      "Root Mean Squared Error: 5.474602104344811\n",
      "R2 Score : 0.7585295159810996\n"
     ]
    }
   ],
   "source": [
    "mae = mean_absolute_error(y_test, y_pred)\n",
    "mse = mean_squared_error(y_test, y_pred)\n",
    "r2 = r2_score(y_test, y_pred)\n",
    "rmse = np.sqrt(mse)\n",
    "print(f\"Mean Absolute Error: {mae}\")\n",
    "print(f\"Mean Squared Error: {mse}\")\n",
    "print(f\"Root Mean Squared Error: {rmse}\")\n",
    "print(f\"R2 Score : {r2}\")"
   ]
  },
  {
   "cell_type": "markdown",
   "id": "d7309e99",
   "metadata": {},
   "source": [
    "## Visualize the model's performance"
   ]
  },
  {
   "cell_type": "code",
   "execution_count": 32,
   "id": "8be50f8e",
   "metadata": {},
   "outputs": [
    {
     "data": {
      "image/png": "[encoded data removed]",
      "text/plain": [
       "<Figure size 600x400 with 1 Axes>"
      ]
     },
     "metadata": {},
     "output_type": "display_data"
    }
   ],
   "source": [
    "plt.figure(figsize=(6, 4))\n",
    "plt.scatter(y_test, y_pred, alpha=0.7, color='b')\n",
    "plt.xlabel('Actual Prices')\n",
    "plt.ylabel('Predicted Prices')\n",
    "plt.title('Actual vs Predicted Prices of Linear Regression')\n",
    "plt.plot([min(y_test), max(y_test)], [min(y_test), max(y_test)], color='red', lw=2)\n",
    "plt.show()"
   ]
  },
  {
   "cell_type": "markdown",
   "id": "d296bfbb",
   "metadata": {},
   "source": [
    "## Interpret the model's coefficients\n"
   ]
  },
  {
   "cell_type": "code",
   "execution_count": 17,
   "id": "676c44ee",
   "metadata": {},
   "outputs": [
    {
     "name": "stdout",
     "output_type": "stream",
     "text": [
      "         Coefficient\n",
      "CRIM       -0.839748\n",
      "ZN          0.933673\n",
      "INDUS       0.012553\n",
      "CHAS        0.559760\n",
      "NOX        -1.933738\n",
      "RM          2.377185\n",
      "AGE         0.327869\n",
      "DIS        -3.018207\n",
      "RAD         2.482937\n",
      "TAX        -1.907197\n",
      "PTRATIO    -2.102303\n",
      "B           0.812249\n",
      "LSTAT      -4.097571\n"
     ]
    }
   ],
   "source": [
    "coefficients = pd.DataFrame(model.coef_, X.columns, columns=['Coefficient'])\n",
    "print(coefficients)"
   ]
  },
  {
   "cell_type": "markdown",
   "id": "7bb81f3a",
   "metadata": {},
   "source": [
    "## Build the ANN model"
   ]
  },
  {
   "cell_type": "code",
   "execution_count": 18,
   "id": "96f818bf",
   "metadata": {},
   "outputs": [],
   "source": [
    "model2 = Sequential()\n",
    "model2.add(Dense(64, input_dim=X_train.shape[1], activation='relu'))\n",
    "model2.add(Dense(32,activation='relu'))\n",
    "model2.add(Dense(1))"
   ]
  },
  {
   "cell_type": "markdown",
   "id": "b462f885",
   "metadata": {},
   "source": [
    "## Compile the model"
   ]
  },
  {
   "cell_type": "code",
   "execution_count": 19,
   "id": "a665986c",
   "metadata": {},
   "outputs": [],
   "source": [
    "model2.compile(optimizer='adam', loss='mean_squared_error')"
   ]
  },
  {
   "cell_type": "markdown",
   "id": "b594fcd5",
   "metadata": {},
   "source": [
    "## Train the model"
   ]
  },
  {
   "cell_type": "code",
   "execution_count": 20,
   "id": "cb789ac9",
   "metadata": {},
   "outputs": [
    {
     "name": "stdout",
     "output_type": "stream",
     "text": [
      "Epoch 1/200\n",
      "12/12 [==============================] - 3s 43ms/step - loss: 566.0571 - val_loss: 626.8582\n",
      "Epoch 2/200\n",
      "12/12 [==============================] - 0s 13ms/step - loss: 538.5746 - val_loss: 600.9695\n",
      "Epoch 3/200\n",
      "12/12 [==============================] - 0s 14ms/step - loss: 511.5504 - val_loss: 569.5167\n",
      "Epoch 4/200\n",
      "12/12 [==============================] - 0s 13ms/step - loss: 479.0576 - val_loss: 528.2455\n",
      "Epoch 5/200\n",
      "12/12 [==============================] - 0s 13ms/step - loss: 437.8933 - val_loss: 474.9580\n",
      "Epoch 6/200\n",
      "12/12 [==============================] - 0s 12ms/step - loss: 386.5643 - val_loss: 408.5142\n",
      "Epoch 7/200\n",
      "12/12 [==============================] - 0s 13ms/step - loss: 324.8845 - val_loss: 328.6676\n",
      "Epoch 8/200\n",
      "12/12 [==============================] - 0s 13ms/step - loss: 257.4322 - val_loss: 239.8948\n",
      "Epoch 9/200\n",
      "12/12 [==============================] - 0s 14ms/step - loss: 187.2489 - val_loss: 156.8614\n",
      "Epoch 10/200\n",
      "12/12 [==============================] - 0s 13ms/step - loss: 125.6724 - val_loss: 93.8231\n",
      "Epoch 11/200\n",
      "12/12 [==============================] - 0s 13ms/step - loss: 83.2505 - val_loss: 57.1863\n",
      "Epoch 12/200\n",
      "12/12 [==============================] - 0s 13ms/step - loss: 59.3141 - val_loss: 41.0904\n",
      "Epoch 13/200\n",
      "12/12 [==============================] - 0s 13ms/step - loss: 47.0082 - val_loss: 33.0164\n",
      "Epoch 14/200\n",
      "12/12 [==============================] - 0s 13ms/step - loss: 38.6989 - val_loss: 27.4341\n",
      "Epoch 15/200\n",
      "12/12 [==============================] - 0s 13ms/step - loss: 33.4562 - val_loss: 23.5570\n",
      "Epoch 16/200\n",
      "12/12 [==============================] - 0s 13ms/step - loss: 29.9773 - val_loss: 20.8194\n",
      "Epoch 17/200\n",
      "12/12 [==============================] - 0s 13ms/step - loss: 27.4757 - val_loss: 19.7174\n",
      "Epoch 18/200\n",
      "12/12 [==============================] - 0s 13ms/step - loss: 25.8109 - val_loss: 18.7033\n",
      "Epoch 19/200\n",
      "12/12 [==============================] - 0s 12ms/step - loss: 24.5411 - val_loss: 17.4808\n",
      "Epoch 20/200\n",
      "12/12 [==============================] - 0s 13ms/step - loss: 23.5781 - val_loss: 16.5803\n",
      "Epoch 21/200\n",
      "12/12 [==============================] - 0s 14ms/step - loss: 22.7495 - val_loss: 15.6261\n",
      "Epoch 22/200\n",
      "12/12 [==============================] - 0s 14ms/step - loss: 22.0233 - val_loss: 14.8200\n",
      "Epoch 23/200\n",
      "12/12 [==============================] - 0s 12ms/step - loss: 21.3769 - val_loss: 14.2783\n",
      "Epoch 24/200\n",
      "12/12 [==============================] - 0s 13ms/step - loss: 20.8996 - val_loss: 13.6042\n",
      "Epoch 25/200\n",
      "12/12 [==============================] - 0s 13ms/step - loss: 20.3265 - val_loss: 12.7801\n",
      "Epoch 26/200\n",
      "12/12 [==============================] - 0s 13ms/step - loss: 19.8175 - val_loss: 12.2625\n",
      "Epoch 27/200\n",
      "12/12 [==============================] - 0s 12ms/step - loss: 19.4196 - val_loss: 12.1362\n",
      "Epoch 28/200\n",
      "12/12 [==============================] - 0s 13ms/step - loss: 18.8447 - val_loss: 11.3444\n",
      "Epoch 29/200\n",
      "12/12 [==============================] - 0s 13ms/step - loss: 18.4958 - val_loss: 10.9524\n",
      "Epoch 30/200\n",
      "12/12 [==============================] - 0s 14ms/step - loss: 18.0914 - val_loss: 10.5838\n",
      "Epoch 31/200\n",
      "12/12 [==============================] - 0s 14ms/step - loss: 17.7645 - val_loss: 10.3069\n",
      "Epoch 32/200\n",
      "12/12 [==============================] - 0s 13ms/step - loss: 17.3756 - val_loss: 9.9311\n",
      "Epoch 33/200\n",
      "12/12 [==============================] - 0s 13ms/step - loss: 17.0349 - val_loss: 9.7317\n",
      "Epoch 34/200\n",
      "12/12 [==============================] - 0s 13ms/step - loss: 16.8244 - val_loss: 9.2010\n",
      "Epoch 35/200\n",
      "12/12 [==============================] - 0s 13ms/step - loss: 16.5343 - val_loss: 9.1948\n",
      "Epoch 36/200\n",
      "12/12 [==============================] - 0s 15ms/step - loss: 16.1908 - val_loss: 9.0361\n",
      "Epoch 37/200\n",
      "12/12 [==============================] - 0s 14ms/step - loss: 15.9273 - val_loss: 8.6490\n",
      "Epoch 38/200\n",
      "12/12 [==============================] - 0s 13ms/step - loss: 15.6350 - val_loss: 8.5620\n",
      "Epoch 39/200\n",
      "12/12 [==============================] - 0s 13ms/step - loss: 15.3985 - val_loss: 8.2843\n",
      "Epoch 40/200\n",
      "12/12 [==============================] - 0s 12ms/step - loss: 15.2050 - val_loss: 8.1824\n",
      "Epoch 41/200\n",
      "12/12 [==============================] - 0s 13ms/step - loss: 15.0297 - val_loss: 7.9886\n",
      "Epoch 42/200\n",
      "12/12 [==============================] - 0s 13ms/step - loss: 14.8527 - val_loss: 7.8571\n",
      "Epoch 43/200\n",
      "12/12 [==============================] - 0s 14ms/step - loss: 14.5562 - val_loss: 7.8472\n",
      "Epoch 44/200\n",
      "12/12 [==============================] - 0s 29ms/step - loss: 14.3429 - val_loss: 7.6364\n",
      "Epoch 45/200\n",
      "12/12 [==============================] - 0s 14ms/step - loss: 14.2098 - val_loss: 7.5620\n",
      "Epoch 46/200\n",
      "12/12 [==============================] - 0s 14ms/step - loss: 14.0558 - val_loss: 7.3916\n",
      "Epoch 47/200\n",
      "12/12 [==============================] - 0s 13ms/step - loss: 13.8715 - val_loss: 7.3459\n",
      "Epoch 48/200\n",
      "12/12 [==============================] - 0s 13ms/step - loss: 13.6954 - val_loss: 7.1770\n",
      "Epoch 49/200\n",
      "12/12 [==============================] - 0s 12ms/step - loss: 13.5364 - val_loss: 7.1234\n",
      "Epoch 50/200\n",
      "12/12 [==============================] - 0s 13ms/step - loss: 13.4257 - val_loss: 7.1617\n",
      "Epoch 51/200\n",
      "12/12 [==============================] - 0s 13ms/step - loss: 13.4010 - val_loss: 6.9861\n",
      "Epoch 52/200\n",
      "12/12 [==============================] - 0s 12ms/step - loss: 13.2001 - val_loss: 7.0949\n",
      "Epoch 53/200\n",
      "12/12 [==============================] - 0s 12ms/step - loss: 13.0170 - val_loss: 6.8666\n",
      "Epoch 54/200\n",
      "12/12 [==============================] - 0s 13ms/step - loss: 12.9398 - val_loss: 6.7648\n",
      "Epoch 55/200\n",
      "12/12 [==============================] - 0s 12ms/step - loss: 12.7805 - val_loss: 6.7957\n",
      "Epoch 56/200\n",
      "12/12 [==============================] - 0s 12ms/step - loss: 12.8198 - val_loss: 6.9386\n",
      "Epoch 57/200\n",
      "12/12 [==============================] - 0s 12ms/step - loss: 12.5904 - val_loss: 6.6498\n",
      "Epoch 58/200\n",
      "12/12 [==============================] - 0s 11ms/step - loss: 12.5061 - val_loss: 6.6323\n",
      "Epoch 59/200\n",
      "12/12 [==============================] - 0s 14ms/step - loss: 12.3194 - val_loss: 6.6320\n",
      "Epoch 60/200\n",
      "12/12 [==============================] - 0s 13ms/step - loss: 12.2696 - val_loss: 6.3998\n",
      "Epoch 61/200\n",
      "12/12 [==============================] - 0s 15ms/step - loss: 12.1386 - val_loss: 6.5447\n",
      "Epoch 62/200\n",
      "12/12 [==============================] - 0s 13ms/step - loss: 12.1814 - val_loss: 6.5193\n",
      "Epoch 63/200\n",
      "12/12 [==============================] - 0s 13ms/step - loss: 12.0103 - val_loss: 6.4999\n",
      "Epoch 64/200\n",
      "12/12 [==============================] - 0s 15ms/step - loss: 11.9273 - val_loss: 6.3491\n",
      "Epoch 65/200\n",
      "12/12 [==============================] - 0s 13ms/step - loss: 11.7687 - val_loss: 6.3395\n",
      "Epoch 66/200\n",
      "12/12 [==============================] - 0s 13ms/step - loss: 11.7448 - val_loss: 6.3739\n",
      "Epoch 67/200\n",
      "12/12 [==============================] - 0s 13ms/step - loss: 11.6353 - val_loss: 6.1864\n",
      "Epoch 68/200\n",
      "12/12 [==============================] - 0s 13ms/step - loss: 11.5176 - val_loss: 6.3243\n",
      "Epoch 69/200\n",
      "12/12 [==============================] - 0s 13ms/step - loss: 11.4558 - val_loss: 6.1810\n",
      "Epoch 70/200\n",
      "12/12 [==============================] - 0s 14ms/step - loss: 11.5663 - val_loss: 6.4080\n",
      "Epoch 71/200\n",
      "12/12 [==============================] - 0s 13ms/step - loss: 11.2635 - val_loss: 6.1628\n",
      "Epoch 72/200\n",
      "12/12 [==============================] - 0s 13ms/step - loss: 11.2176 - val_loss: 5.8761\n",
      "Epoch 73/200\n",
      "12/12 [==============================] - 0s 13ms/step - loss: 11.2259 - val_loss: 6.2604\n",
      "Epoch 74/200\n",
      "12/12 [==============================] - 0s 14ms/step - loss: 11.0085 - val_loss: 6.0150\n",
      "Epoch 75/200\n",
      "12/12 [==============================] - 0s 12ms/step - loss: 10.9833 - val_loss: 6.0696\n",
      "Epoch 76/200\n",
      "12/12 [==============================] - 0s 13ms/step - loss: 10.8665 - val_loss: 6.0512\n",
      "Epoch 77/200\n",
      "12/12 [==============================] - 0s 13ms/step - loss: 10.8298 - val_loss: 6.0338\n",
      "Epoch 78/200\n",
      "12/12 [==============================] - 0s 12ms/step - loss: 10.7468 - val_loss: 5.9596\n",
      "Epoch 79/200\n",
      "12/12 [==============================] - 0s 12ms/step - loss: 10.6272 - val_loss: 6.1872\n",
      "Epoch 80/200\n",
      "12/12 [==============================] - 0s 12ms/step - loss: 10.6468 - val_loss: 5.9602\n"
     ]
    },
    {
     "name": "stdout",
     "output_type": "stream",
     "text": [
      "Epoch 81/200\n",
      "12/12 [==============================] - 0s 12ms/step - loss: 10.5670 - val_loss: 5.7002\n",
      "Epoch 82/200\n",
      "12/12 [==============================] - 0s 14ms/step - loss: 10.5317 - val_loss: 5.8260\n",
      "Epoch 83/200\n",
      "12/12 [==============================] - 0s 13ms/step - loss: 10.4320 - val_loss: 5.8363\n",
      "Epoch 84/200\n",
      "12/12 [==============================] - 0s 13ms/step - loss: 10.3484 - val_loss: 5.9319\n",
      "Epoch 85/200\n",
      "12/12 [==============================] - 0s 12ms/step - loss: 10.2717 - val_loss: 5.7294\n",
      "Epoch 86/200\n",
      "12/12 [==============================] - 0s 12ms/step - loss: 10.2071 - val_loss: 5.7365\n",
      "Epoch 87/200\n",
      "12/12 [==============================] - 0s 13ms/step - loss: 10.4345 - val_loss: 5.7590\n",
      "Epoch 88/200\n",
      "12/12 [==============================] - 0s 13ms/step - loss: 10.1008 - val_loss: 5.5563\n",
      "Epoch 89/200\n",
      "12/12 [==============================] - 0s 13ms/step - loss: 10.0432 - val_loss: 5.6893\n",
      "Epoch 90/200\n",
      "12/12 [==============================] - 0s 13ms/step - loss: 9.9502 - val_loss: 5.7865\n",
      "Epoch 91/200\n",
      "12/12 [==============================] - 0s 12ms/step - loss: 9.8980 - val_loss: 5.5194\n",
      "Epoch 92/200\n",
      "12/12 [==============================] - 0s 11ms/step - loss: 9.8364 - val_loss: 5.6959\n",
      "Epoch 93/200\n",
      "12/12 [==============================] - 0s 12ms/step - loss: 10.0231 - val_loss: 6.4136\n",
      "Epoch 94/200\n",
      "12/12 [==============================] - 0s 12ms/step - loss: 9.7459 - val_loss: 5.5830\n",
      "Epoch 95/200\n",
      "12/12 [==============================] - 0s 12ms/step - loss: 9.6673 - val_loss: 5.6445\n",
      "Epoch 96/200\n",
      "12/12 [==============================] - 0s 13ms/step - loss: 9.6354 - val_loss: 5.9421\n",
      "Epoch 97/200\n",
      "12/12 [==============================] - 0s 14ms/step - loss: 9.5111 - val_loss: 5.4808\n",
      "Epoch 98/200\n",
      "12/12 [==============================] - 0s 13ms/step - loss: 9.5134 - val_loss: 5.4373\n",
      "Epoch 99/200\n",
      "12/12 [==============================] - 0s 13ms/step - loss: 9.4627 - val_loss: 5.5642\n",
      "Epoch 100/200\n",
      "12/12 [==============================] - 0s 13ms/step - loss: 9.3818 - val_loss: 5.7048\n",
      "Epoch 101/200\n",
      "12/12 [==============================] - 0s 13ms/step - loss: 9.2919 - val_loss: 5.4135\n",
      "Epoch 102/200\n",
      "12/12 [==============================] - 0s 13ms/step - loss: 9.2634 - val_loss: 5.5662\n",
      "Epoch 103/200\n",
      "12/12 [==============================] - 0s 13ms/step - loss: 9.2221 - val_loss: 5.6781\n",
      "Epoch 104/200\n",
      "12/12 [==============================] - 0s 13ms/step - loss: 9.1364 - val_loss: 5.4349\n",
      "Epoch 105/200\n",
      "12/12 [==============================] - 0s 13ms/step - loss: 9.1014 - val_loss: 5.5269\n",
      "Epoch 106/200\n",
      "12/12 [==============================] - 0s 12ms/step - loss: 9.0115 - val_loss: 5.3455\n",
      "Epoch 107/200\n",
      "12/12 [==============================] - 0s 12ms/step - loss: 9.1153 - val_loss: 5.3586\n",
      "Epoch 108/200\n",
      "12/12 [==============================] - 0s 12ms/step - loss: 8.9143 - val_loss: 5.3846\n",
      "Epoch 109/200\n",
      "12/12 [==============================] - 0s 13ms/step - loss: 8.9474 - val_loss: 5.6975\n",
      "Epoch 110/200\n",
      "12/12 [==============================] - 0s 13ms/step - loss: 8.8734 - val_loss: 5.4105\n",
      "Epoch 111/200\n",
      "12/12 [==============================] - 0s 13ms/step - loss: 8.7823 - val_loss: 5.4621\n",
      "Epoch 112/200\n",
      "12/12 [==============================] - 0s 14ms/step - loss: 8.6810 - val_loss: 5.4648\n",
      "Epoch 113/200\n",
      "12/12 [==============================] - 0s 13ms/step - loss: 8.6170 - val_loss: 5.3315\n",
      "Epoch 114/200\n",
      "12/12 [==============================] - 0s 13ms/step - loss: 8.5940 - val_loss: 5.5089\n",
      "Epoch 115/200\n",
      "12/12 [==============================] - 0s 13ms/step - loss: 8.6499 - val_loss: 5.3051\n",
      "Epoch 116/200\n",
      "12/12 [==============================] - 0s 12ms/step - loss: 8.5335 - val_loss: 5.2690\n",
      "Epoch 117/200\n",
      "12/12 [==============================] - 0s 12ms/step - loss: 8.4433 - val_loss: 5.8513\n",
      "Epoch 118/200\n",
      "12/12 [==============================] - 0s 12ms/step - loss: 8.4020 - val_loss: 5.2538\n",
      "Epoch 119/200\n",
      "12/12 [==============================] - 0s 12ms/step - loss: 8.4162 - val_loss: 5.4039\n",
      "Epoch 120/200\n",
      "12/12 [==============================] - 0s 13ms/step - loss: 8.2274 - val_loss: 5.3694\n",
      "Epoch 121/200\n",
      "12/12 [==============================] - 0s 12ms/step - loss: 8.2938 - val_loss: 5.4083\n",
      "Epoch 122/200\n",
      "12/12 [==============================] - 0s 13ms/step - loss: 8.2767 - val_loss: 5.4846\n",
      "Epoch 123/200\n",
      "12/12 [==============================] - 0s 13ms/step - loss: 8.3015 - val_loss: 5.1073\n",
      "Epoch 124/200\n",
      "12/12 [==============================] - 0s 13ms/step - loss: 8.2969 - val_loss: 5.6076\n",
      "Epoch 125/200\n",
      "12/12 [==============================] - 0s 13ms/step - loss: 8.0247 - val_loss: 5.2184\n",
      "Epoch 126/200\n",
      "12/12 [==============================] - 0s 12ms/step - loss: 8.2174 - val_loss: 5.4439\n",
      "Epoch 127/200\n",
      "12/12 [==============================] - 0s 12ms/step - loss: 8.0925 - val_loss: 5.6152\n",
      "Epoch 128/200\n",
      "12/12 [==============================] - 0s 13ms/step - loss: 8.0290 - val_loss: 5.0537\n",
      "Epoch 129/200\n",
      "12/12 [==============================] - 0s 12ms/step - loss: 7.9360 - val_loss: 5.5636\n",
      "Epoch 130/200\n",
      "12/12 [==============================] - 0s 13ms/step - loss: 7.8572 - val_loss: 5.3655\n",
      "Epoch 131/200\n",
      "12/12 [==============================] - 0s 13ms/step - loss: 7.7748 - val_loss: 5.1121\n",
      "Epoch 132/200\n",
      "12/12 [==============================] - 0s 12ms/step - loss: 7.8186 - val_loss: 5.2458\n",
      "Epoch 133/200\n",
      "12/12 [==============================] - 0s 13ms/step - loss: 7.8925 - val_loss: 5.4306\n",
      "Epoch 134/200\n",
      "12/12 [==============================] - 0s 12ms/step - loss: 7.7134 - val_loss: 5.6100\n",
      "Epoch 135/200\n",
      "12/12 [==============================] - 0s 12ms/step - loss: 7.6504 - val_loss: 5.0941\n",
      "Epoch 136/200\n",
      "12/12 [==============================] - 0s 11ms/step - loss: 7.7261 - val_loss: 5.4499\n",
      "Epoch 137/200\n",
      "12/12 [==============================] - 0s 12ms/step - loss: 7.8550 - val_loss: 5.2979\n",
      "Epoch 138/200\n",
      "12/12 [==============================] - 0s 12ms/step - loss: 7.6363 - val_loss: 5.0634\n",
      "Epoch 139/200\n",
      "12/12 [==============================] - 0s 12ms/step - loss: 7.6292 - val_loss: 5.7581\n",
      "Epoch 140/200\n",
      "12/12 [==============================] - 0s 12ms/step - loss: 7.4030 - val_loss: 5.0640\n",
      "Epoch 141/200\n",
      "12/12 [==============================] - 0s 12ms/step - loss: 7.5824 - val_loss: 5.1660\n",
      "Epoch 142/200\n",
      "12/12 [==============================] - 0s 14ms/step - loss: 7.6508 - val_loss: 5.6658\n",
      "Epoch 143/200\n",
      "12/12 [==============================] - 0s 13ms/step - loss: 7.3839 - val_loss: 5.1703\n",
      "Epoch 144/200\n",
      "12/12 [==============================] - 0s 13ms/step - loss: 7.4108 - val_loss: 5.3472\n",
      "Epoch 145/200\n",
      "12/12 [==============================] - 0s 13ms/step - loss: 7.2489 - val_loss: 4.9665\n",
      "Epoch 146/200\n",
      "12/12 [==============================] - 0s 13ms/step - loss: 7.2334 - val_loss: 5.4438\n",
      "Epoch 147/200\n",
      "12/12 [==============================] - 0s 13ms/step - loss: 7.1984 - val_loss: 5.2559\n",
      "Epoch 148/200\n",
      "12/12 [==============================] - 0s 13ms/step - loss: 7.1299 - val_loss: 5.2713\n",
      "Epoch 149/200\n",
      "12/12 [==============================] - 0s 12ms/step - loss: 7.1611 - val_loss: 5.5213\n",
      "Epoch 150/200\n",
      "12/12 [==============================] - 0s 12ms/step - loss: 7.0650 - val_loss: 5.2403\n",
      "Epoch 151/200\n",
      "12/12 [==============================] - 0s 12ms/step - loss: 7.0666 - val_loss: 5.3193\n",
      "Epoch 152/200\n",
      "12/12 [==============================] - 0s 11ms/step - loss: 7.0199 - val_loss: 5.2657\n",
      "Epoch 153/200\n",
      "12/12 [==============================] - 0s 13ms/step - loss: 7.0427 - val_loss: 5.5700\n",
      "Epoch 154/200\n",
      "12/12 [==============================] - 0s 12ms/step - loss: 6.9807 - val_loss: 5.1004\n",
      "Epoch 155/200\n",
      "12/12 [==============================] - 0s 14ms/step - loss: 6.8828 - val_loss: 5.3553\n",
      "Epoch 156/200\n",
      "12/12 [==============================] - 0s 13ms/step - loss: 6.9357 - val_loss: 5.3751\n",
      "Epoch 157/200\n",
      "12/12 [==============================] - 0s 12ms/step - loss: 7.0431 - val_loss: 5.2534\n",
      "Epoch 158/200\n",
      "12/12 [==============================] - 0s 13ms/step - loss: 6.8454 - val_loss: 5.3037\n",
      "Epoch 159/200\n",
      "12/12 [==============================] - 0s 13ms/step - loss: 6.8397 - val_loss: 5.3868\n",
      "Epoch 160/200\n",
      "12/12 [==============================] - 0s 12ms/step - loss: 6.6930 - val_loss: 5.1479\n",
      "Epoch 161/200\n"
     ]
    },
    {
     "name": "stdout",
     "output_type": "stream",
     "text": [
      "12/12 [==============================] - 0s 12ms/step - loss: 6.7565 - val_loss: 5.2690\n",
      "Epoch 162/200\n",
      "12/12 [==============================] - 0s 12ms/step - loss: 6.7372 - val_loss: 5.3333\n",
      "Epoch 163/200\n",
      "12/12 [==============================] - 0s 13ms/step - loss: 6.5916 - val_loss: 5.1134\n",
      "Epoch 164/200\n",
      "12/12 [==============================] - 0s 13ms/step - loss: 6.5799 - val_loss: 5.2459\n",
      "Epoch 165/200\n",
      "12/12 [==============================] - 0s 13ms/step - loss: 6.5021 - val_loss: 5.4623\n",
      "Epoch 166/200\n",
      "12/12 [==============================] - 0s 12ms/step - loss: 6.5288 - val_loss: 5.3112\n",
      "Epoch 167/200\n",
      "12/12 [==============================] - 0s 12ms/step - loss: 6.5101 - val_loss: 5.0494\n",
      "Epoch 168/200\n",
      "12/12 [==============================] - 0s 12ms/step - loss: 6.4725 - val_loss: 5.2527\n",
      "Epoch 169/200\n",
      "12/12 [==============================] - 0s 14ms/step - loss: 6.3766 - val_loss: 5.1057\n",
      "Epoch 170/200\n",
      "12/12 [==============================] - 0s 13ms/step - loss: 6.4057 - val_loss: 5.2822\n",
      "Epoch 171/200\n",
      "12/12 [==============================] - 0s 13ms/step - loss: 6.4842 - val_loss: 5.3342\n",
      "Epoch 172/200\n",
      "12/12 [==============================] - 0s 12ms/step - loss: 6.3884 - val_loss: 5.0637\n",
      "Epoch 173/200\n",
      "12/12 [==============================] - 0s 13ms/step - loss: 6.4060 - val_loss: 5.4834\n",
      "Epoch 174/200\n",
      "12/12 [==============================] - 0s 13ms/step - loss: 6.2456 - val_loss: 4.9417\n",
      "Epoch 175/200\n",
      "12/12 [==============================] - 0s 12ms/step - loss: 6.3862 - val_loss: 5.3780\n",
      "Epoch 176/200\n",
      "12/12 [==============================] - 0s 12ms/step - loss: 6.1909 - val_loss: 5.1961\n",
      "Epoch 177/200\n",
      "12/12 [==============================] - 0s 12ms/step - loss: 6.1230 - val_loss: 5.2783\n",
      "Epoch 178/200\n",
      "12/12 [==============================] - 0s 14ms/step - loss: 6.1204 - val_loss: 5.3550\n",
      "Epoch 179/200\n",
      "12/12 [==============================] - 0s 13ms/step - loss: 6.0840 - val_loss: 5.1484\n",
      "Epoch 180/200\n",
      "12/12 [==============================] - 0s 12ms/step - loss: 6.0695 - val_loss: 5.5779\n",
      "Epoch 181/200\n",
      "12/12 [==============================] - 0s 12ms/step - loss: 6.0867 - val_loss: 4.8940\n",
      "Epoch 182/200\n",
      "12/12 [==============================] - 0s 13ms/step - loss: 6.0229 - val_loss: 5.2301\n",
      "Epoch 183/200\n",
      "12/12 [==============================] - 0s 13ms/step - loss: 6.2141 - val_loss: 5.3326\n",
      "Epoch 184/200\n",
      "12/12 [==============================] - 0s 14ms/step - loss: 6.0699 - val_loss: 5.2747\n",
      "Epoch 185/200\n",
      "12/12 [==============================] - 0s 13ms/step - loss: 5.8816 - val_loss: 5.2408\n",
      "Epoch 186/200\n",
      "12/12 [==============================] - 0s 11ms/step - loss: 5.8845 - val_loss: 5.3107\n",
      "Epoch 187/200\n",
      "12/12 [==============================] - 0s 12ms/step - loss: 5.9209 - val_loss: 5.2608\n",
      "Epoch 188/200\n",
      "12/12 [==============================] - 0s 14ms/step - loss: 5.8538 - val_loss: 5.2193\n",
      "Epoch 189/200\n",
      "12/12 [==============================] - 0s 12ms/step - loss: 5.7545 - val_loss: 5.4005\n",
      "Epoch 190/200\n",
      "12/12 [==============================] - 0s 12ms/step - loss: 5.7616 - val_loss: 5.1587\n",
      "Epoch 191/200\n",
      "12/12 [==============================] - 0s 14ms/step - loss: 5.7352 - val_loss: 5.2336\n",
      "Epoch 192/200\n",
      "12/12 [==============================] - 0s 13ms/step - loss: 5.7081 - val_loss: 5.2330\n",
      "Epoch 193/200\n",
      "12/12 [==============================] - 0s 13ms/step - loss: 5.6619 - val_loss: 5.2475\n",
      "Epoch 194/200\n",
      "12/12 [==============================] - 0s 13ms/step - loss: 5.6171 - val_loss: 5.2178\n",
      "Epoch 195/200\n",
      "12/12 [==============================] - 0s 12ms/step - loss: 5.6329 - val_loss: 5.1670\n",
      "Epoch 196/200\n",
      "12/12 [==============================] - 0s 12ms/step - loss: 5.6656 - val_loss: 5.4098\n",
      "Epoch 197/200\n",
      "12/12 [==============================] - 0s 13ms/step - loss: 5.5875 - val_loss: 5.1474\n",
      "Epoch 198/200\n",
      "12/12 [==============================] - 0s 13ms/step - loss: 5.5211 - val_loss: 5.1646\n",
      "Epoch 199/200\n",
      "12/12 [==============================] - 0s 12ms/step - loss: 5.5640 - val_loss: 5.4127\n",
      "Epoch 200/200\n",
      "12/12 [==============================] - 0s 13ms/step - loss: 5.4893 - val_loss: 5.0998\n"
     ]
    }
   ],
   "source": [
    "history = model2.fit(X_train, y_train, epochs=200, validation_split=0.2, verbose=1)"
   ]
  },
  {
   "cell_type": "markdown",
   "id": "5c36ee82",
   "metadata": {},
   "source": [
    "## Performance Test"
   ]
  },
  {
   "cell_type": "code",
   "execution_count": 24,
   "id": "f79713b1",
   "metadata": {},
   "outputs": [
    {
     "name": "stdout",
     "output_type": "stream",
     "text": [
      "2/2 [==============================] - 0s 5ms/step\n",
      "Mean Absolute Error: 2.190230147043864\n",
      "Mean Squared Error: 7.726495967614846\n",
      "Root Mean Squared Error: 2.779657527037251\n",
      "R2 Score : 0.9377496905181268\n"
     ]
    }
   ],
   "source": [
    "y_pred2 = model2.predict(X_test)\n",
    "maeAnn = mean_absolute_error(y_test, y_pred2)\n",
    "mseAnn = mean_squared_error(y_test, y_pred2)\n",
    "r2Ann = r2_score(y_test, y_pred2)\n",
    "rmseAnn = np.sqrt(mseAnn)\n",
    "print(f\"Mean Absolute Error: {maeAnn}\")\n",
    "print(f\"Mean Squared Error: {mseAnn}\")\n",
    "print(f\"Root Mean Squared Error: {rmseAnn}\")\n",
    "print(f\"R2 Score : {r2Ann}\")"
   ]
  },
  {
   "cell_type": "markdown",
   "id": "7b7cc43f",
   "metadata": {},
   "source": [
    "## Visualize the model's performance"
   ]
  },
  {
   "cell_type": "code",
   "execution_count": 33,
   "id": "1c949135",
   "metadata": {},
   "outputs": [
    {
     "data": {
      "image/png": "[encoded data removed]",
      "text/plain": [
       "<Figure size 600x400 with 1 Axes>"
      ]
     },
     "metadata": {},
     "output_type": "display_data"
    }
   ],
   "source": [
    "plt.figure(figsize=(6, 4))\n",
    "plt.scatter(y_test, y_pred2, alpha=0.7, color='b')\n",
    "plt.xlabel('Actual Prices')\n",
    "plt.ylabel('Predicted Prices')\n",
    "plt.title('Actual vs Predicted Prices for ANN')\n",
    "plt.plot([min(y_test), max(y_test)], [min(y_test), max(y_test)], color='red', lw=2)\n",
    "plt.show()"
   ]
  },
  {
   "cell_type": "markdown",
   "id": "c014ff32",
   "metadata": {},
   "source": [
    "## Documentation Report"
   ]
  },
  {
   "cell_type": "code",
   "execution_count": 26,
   "id": "c0817d93",
   "metadata": {},
   "outputs": [
    {
     "name": "stdout",
     "output_type": "stream",
     "text": [
      "\n",
      "### Housing Prices Prediction Report\n",
      "\n",
      "#### Dataset and Features\n",
      "The dataset contains 14 features including the target variable 'MEDV' which represents the median value of owner-occupied homes in $1000's. The features include:\n",
      "- CRIM: Per capita crime rate by town.\n",
      "- ZN: Proportion of residential land zoned for lots over 25,000 sq. ft.\n",
      "- INDUS: Proportion of non-retail business acres per town.\n",
      "- CHAS: Charles River dummy variable (1 if tract bounds river; 0 otherwise).\n",
      "- NOX: Nitric oxides concentration (parts per 10 million).\n",
      "- RM: Average number of rooms per dwelling.\n",
      "- AGE: Proportion of owner-occupied units built prior to 1940.\n",
      "- DIS: Weighted distances to five Boston employment centers.\n",
      "- RAD: Index of accessibility to radial highways.\n",
      "- TAX: Full-value property tax rate per $10,000.\n",
      "- PTRATIO: Pupil-teacher ratio by town.\n",
      "- B: 1000(Bk - 0.63)^2 where Bk is the proportion of Black residents by town.\n",
      "- LSTAT: Percentage of lower status of the population.\n",
      "- MEDV: Median value of owner-occupied homes in $1000's.\n",
      "\n",
      "#### Data Preprocessing Steps\n",
      "1. Loaded and inspected the dataset.\n",
      "2. No missing values were found in the dataset.\n",
      "3. Performed feature scaling and normalization using StandardScaler.\n",
      "4. Split the data into training and testing sets (80% training, 20% testing).\n",
      "\n",
      "#### Model Training and Evaluation\n",
      "- Implemented a simple Linear Regression model.\n",
      "- Trained the model on the training dataset.\n",
      "- Also Implemented an Artificial Neural Network (ANN) model with two hidden layers.\n",
      "- Trained the model on the training dataset.\n",
      "- Evaluated both the models using Mean Absolute Error (MAE), Mean Squared Error (MSE), and Root Mean Squared Error (RMSE).\n",
      "\n",
      "#### Linear Regression Performance\n",
      "- Mean Absolute Error: 4.170177848390395\n",
      "- Mean Squared Error: 29.97126820089663\n",
      "- Root Mean Squared Error: 5.474602104344811\n",
      "- R2 Score : 0.7585295159810996\n",
      "\n",
      "#### Artificial Neural Network Performance\n",
      "- Mean Absolute Error: 2.190230147043864\n",
      "- Mean Squared Error: 7.726495967614846\n",
      "- Root Mean Squared Error: 2.779657527037251\n",
      "- R2 Score : 0.9377496905181268\n",
      "\n",
      "#### Interpretation of Coefficients\n",
      "The coefficients of the linear regression model provide insights into the impact of each feature on the housing prices. A positive coefficient indicates that an increase in the feature value leads to an increase in the predicted price, while a negative coefficient indicates a decrease.\n",
      "\n",
      "#### Challenges Faced\n",
      "- Ensuring proper feature scaling and normalization.\n",
      "- Splitting the data in a manner that maintains the distribution of the target variable.\n",
      "\n",
      "#### Conclusion\n",
      "The ANN model provides a baseline for predicting housing prices with a more complex structure than linear regression. Future improvements can include further tuning of the model architecture, performing feature engineering, and hyperparameter tuning to enhance model performance.\n",
      "\n"
     ]
    }
   ],
   "source": [
    "report = f\"\"\"\n",
    "### Housing Prices Prediction Report\n",
    "\n",
    "#### Dataset and Features\n",
    "The dataset contains 14 features including the target variable 'MEDV' which represents the median value of owner-occupied homes in $1000's. The features include:\n",
    "- CRIM: Per capita crime rate by town.\n",
    "- ZN: Proportion of residential land zoned for lots over 25,000 sq. ft.\n",
    "- INDUS: Proportion of non-retail business acres per town.\n",
    "- CHAS: Charles River dummy variable (1 if tract bounds river; 0 otherwise).\n",
    "- NOX: Nitric oxides concentration (parts per 10 million).\n",
    "- RM: Average number of rooms per dwelling.\n",
    "- AGE: Proportion of owner-occupied units built prior to 1940.\n",
    "- DIS: Weighted distances to five Boston employment centers.\n",
    "- RAD: Index of accessibility to radial highways.\n",
    "- TAX: Full-value property tax rate per $10,000.\n",
    "- PTRATIO: Pupil-teacher ratio by town.\n",
    "- B: 1000(Bk - 0.63)^2 where Bk is the proportion of Black residents by town.\n",
    "- LSTAT: Percentage of lower status of the population.\n",
    "- MEDV: Median value of owner-occupied homes in $1000's.\n",
    "\n",
    "#### Data Preprocessing Steps\n",
    "1. Loaded and inspected the dataset.\n",
    "2. No missing values were found in the dataset.\n",
    "3. Performed feature scaling and normalization using StandardScaler.\n",
    "4. Split the data into training and testing sets (80% training, 20% testing).\n",
    "\n",
    "#### Model Training and Evaluation\n",
    "- Implemented a simple Linear Regression model.\n",
    "- Trained the model on the training dataset.\n",
    "- Also Implemented an Artificial Neural Network (ANN) model with two hidden layers.\n",
    "- Trained the model on the training dataset.\n",
    "- Evaluated both the models using Mean Absolute Error (MAE), Mean Squared Error (MSE), and Root Mean Squared Error (RMSE).\n",
    "\n",
    "#### Linear Regression Performance\n",
    "- Mean Absolute Error: {mae}\n",
    "- Mean Squared Error: {mse}\n",
    "- Root Mean Squared Error: {rmse}\n",
    "- R2 Score : {r2}\n",
    "\n",
    "#### Artificial Neural Network Performance\n",
    "- Mean Absolute Error: {maeAnn}\n",
    "- Mean Squared Error: {mseAnn}\n",
    "- Root Mean Squared Error: {rmseAnn}\n",
    "- R2 Score : {r2Ann}\n",
    "\n",
    "#### Interpretation of Coefficients\n",
    "The coefficients of the linear regression model provide insights into the impact of each feature on the housing prices. A positive coefficient indicates that an increase in the feature value leads to an increase in the predicted price, while a negative coefficient indicates a decrease.\n",
    "\n",
    "#### Challenges Faced\n",
    "- Ensuring proper feature scaling and normalization.\n",
    "- Splitting the data in a manner that maintains the distribution of the target variable.\n",
    "\n",
    "#### Conclusion\n",
    "The ANN model provides a baseline for predicting housing prices with a more complex structure than linear regression. Future improvements can include further tuning of the model architecture, performing feature engineering, and hyperparameter tuning to enhance model performance.\n",
    "\"\"\"\n",
    "\n",
    "print(report)"
   ]
  },
  {
   "cell_type": "code",
   "execution_count": null,
   "id": "d673fe5b",
   "metadata": {},
   "outputs": [],
   "source": []
  }
 ],
 "metadata": {
  "kernelspec": {
   "display_name": "Python 3 (ipykernel)",
   "language": "python",
   "name": "python3"
  },
  "language_info": {
   "codemirror_mode": {
    "name": "ipython",
    "version": 3
   },
   "file_extension": ".py",
   "mimetype": "text/x-python",
   "name": "python",
   "nbconvert_exporter": "python",
   "pygments_lexer": "ipython3",
   "version": "3.9.0"
  }
 },
 "nbformat": 4,
 "nbformat_minor": 5
}
